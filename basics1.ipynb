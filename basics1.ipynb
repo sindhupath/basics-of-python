{
 "cells": [
  {
   "cell_type": "markdown",
   "id": "ddde74b9",
   "metadata": {},
   "source": [
    "#### for creating new cell _ esc+ a , run= shift+enter\n",
    "when we open a jupyter note book there willbe a kernel opened which is basically a compiler\n",
    "## NUMBERS"
   ]
  },
  {
   "cell_type": "code",
   "execution_count": 1,
   "id": "c08c1d87",
   "metadata": {},
   "outputs": [
    {
     "data": {
      "text/plain": [
       "True"
      ]
     },
     "execution_count": 1,
     "metadata": {},
     "output_type": "execute_result"
    }
   ],
   "source": [
    "1==1"
   ]
  },
  {
   "cell_type": "code",
   "execution_count": 4,
   "id": "a674e1e7",
   "metadata": {},
   "outputs": [
    {
     "data": {
      "text/plain": [
       "4"
      ]
     },
     "execution_count": 4,
     "metadata": {},
     "output_type": "execute_result"
    }
   ],
   "source": [
    "2+2 # add"
   ]
  },
  {
   "cell_type": "code",
   "execution_count": 5,
   "id": "7e599fd5",
   "metadata": {},
   "outputs": [
    {
     "data": {
      "text/plain": [
       "7"
      ]
     },
     "execution_count": 5,
     "metadata": {},
     "output_type": "execute_result"
    }
   ],
   "source": [
    "10-3 #subtract"
   ]
  },
  {
   "cell_type": "code",
   "execution_count": 6,
   "id": "0ed38857",
   "metadata": {},
   "outputs": [
    {
     "data": {
      "text/plain": [
       "10.0"
      ]
     },
     "execution_count": 6,
     "metadata": {},
     "output_type": "execute_result"
    }
   ],
   "source": [
    "20/2 #quotient"
   ]
  },
  {
   "cell_type": "code",
   "execution_count": 8,
   "id": "c4e3c30d",
   "metadata": {},
   "outputs": [
    {
     "data": {
      "text/plain": [
       "0"
      ]
     },
     "execution_count": 8,
     "metadata": {},
     "output_type": "execute_result"
    }
   ],
   "source": [
    "20%2 # reminder"
   ]
  },
  {
   "cell_type": "code",
   "execution_count": 11,
   "id": "abfce1bc",
   "metadata": {},
   "outputs": [
    {
     "data": {
      "text/plain": [
       "30"
      ]
     },
     "execution_count": 11,
     "metadata": {},
     "output_type": "execute_result"
    }
   ],
   "source": [
    "10*3 # multiply"
   ]
  },
  {
   "cell_type": "code",
   "execution_count": 10,
   "id": "0db855ab",
   "metadata": {},
   "outputs": [
    {
     "data": {
      "text/plain": [
       "100"
      ]
     },
     "execution_count": 10,
     "metadata": {},
     "output_type": "execute_result"
    }
   ],
   "source": [
    "10**2 #power"
   ]
  },
  {
   "cell_type": "code",
   "execution_count": 16,
   "id": "69854b3a",
   "metadata": {},
   "outputs": [
    {
     "data": {
      "text/plain": [
       "'smilesmilesmilesmilesmilesmilesmilesmilesmilesmile'"
      ]
     },
     "execution_count": 16,
     "metadata": {},
     "output_type": "execute_result"
    }
   ],
   "source": [
    "10* 'smile'"
   ]
  },
  {
   "cell_type": "code",
   "execution_count": 24,
   "id": "29509fd9",
   "metadata": {},
   "outputs": [
    {
     "name": "stdout",
     "output_type": "stream",
     "text": [
      "<class 'int'>\n",
      "<class 'str'>\n",
      "<class 'float'>\n",
      "<class 'bool'>\n"
     ]
    }
   ],
   "source": [
    "#Check the data type\n",
    "a=type(1)\n",
    "print(a)\n",
    "b=type('hello')\n",
    "print(b)\n",
    "c=type(2.1)\n",
    "print(c)\n",
    "d=type(True)\n",
    "print(d)"
   ]
  },
  {
   "cell_type": "markdown",
   "id": "f6f1987c",
   "metadata": {},
   "source": [
    "## STRING"
   ]
  },
  {
   "cell_type": "code",
   "execution_count": 25,
   "id": "d386a758",
   "metadata": {},
   "outputs": [
    {
     "data": {
      "text/plain": [
       "'hello'"
      ]
     },
     "execution_count": 25,
     "metadata": {},
     "output_type": "execute_result"
    }
   ],
   "source": [
    "# can be in \" double\" , 'single'\n",
    "(\"hello\")"
   ]
  },
  {
   "cell_type": "code",
   "execution_count": 26,
   "id": "099e26f2",
   "metadata": {},
   "outputs": [
    {
     "data": {
      "text/plain": [
       "'hello'"
      ]
     },
     "execution_count": 26,
     "metadata": {},
     "output_type": "execute_result"
    }
   ],
   "source": [
    "('hello')"
   ]
  },
  {
   "cell_type": "markdown",
   "id": "3f6ee678",
   "metadata": {},
   "source": [
    "## VARIABLE ASSIGNING"
   ]
  },
  {
   "cell_type": "code",
   "execution_count": 35,
   "id": "2a038ba0",
   "metadata": {},
   "outputs": [
    {
     "name": "stdout",
     "output_type": "stream",
     "text": [
      "1\n"
     ]
    },
    {
     "data": {
      "text/plain": [
       "int"
      ]
     },
     "execution_count": 35,
     "metadata": {},
     "output_type": "execute_result"
    }
   ],
   "source": [
    "a=1\n",
    "print(a) # no need to add int a=10 ,no data type needed\n",
    "type(a)"
   ]
  },
  {
   "cell_type": "code",
   "execution_count": 36,
   "id": "2375cade",
   "metadata": {},
   "outputs": [],
   "source": [
    "f=3\n",
    "g=4"
   ]
  },
  {
   "cell_type": "code",
   "execution_count": 37,
   "id": "1619386f",
   "metadata": {},
   "outputs": [
    {
     "name": "stdout",
     "output_type": "stream",
     "text": [
      "7\n",
      "-1\n",
      "3\n",
      "12\n",
      "0.75\n",
      "11\n"
     ]
    }
   ],
   "source": [
    "print(f+g)\n",
    "print(f-g)\n",
    "print(f%g)\n",
    "print(f*g)\n",
    "print(f/g)\n",
    "print((f*g)-(g%f))  # BODMAS rule"
   ]
  },
  {
   "cell_type": "markdown",
   "id": "5095b2cb",
   "metadata": {},
   "source": [
    "## PRINTING"
   ]
  },
  {
   "cell_type": "code",
   "execution_count": 56,
   "id": "1ff16dcb",
   "metadata": {},
   "outputs": [
    {
     "name": "stdout",
     "output_type": "stream",
     "text": [
      "hello\n"
     ]
    }
   ],
   "source": [
    "# for knowing info just after print i.e. before peranthesis '(' hold  SHIFT and press TAB to know more about it, \n",
    "#or :press print? and run \n",
    "print('hello')"
   ]
  },
  {
   "cell_type": "code",
   "execution_count": 46,
   "id": "bec9fa81",
   "metadata": {},
   "outputs": [],
   "source": [
    "#the print can also can be used with a format function:\n",
    "first_name= 'sindhuja'\n",
    "last_name='p'"
   ]
  },
  {
   "cell_type": "code",
   "execution_count": 47,
   "id": "b1a0a16d",
   "metadata": {},
   "outputs": [
    {
     "name": "stdout",
     "output_type": "stream",
     "text": [
      "hello my name is sindhuja and last name starts with p\n"
     ]
    }
   ],
   "source": [
    "print('hello my name is {} and last name starts with {}'.format(first_name,last_name))"
   ]
  },
  {
   "cell_type": "code",
   "execution_count": 49,
   "id": "5cbde8cc",
   "metadata": {},
   "outputs": [
    {
     "name": "stdout",
     "output_type": "stream",
     "text": [
      "hello my name is sindhuja and last name starts with p\n"
     ]
    }
   ],
   "source": [
    "#if given with a variable as first and last and jumbling the order also it will show the same output\n",
    "print('hello my name is {first} and last name starts with {last}'.format(last=last_name,first=first_name))"
   ]
  },
  {
   "cell_type": "code",
   "execution_count": 52,
   "id": "a1a79cf7",
   "metadata": {},
   "outputs": [
    {
     "data": {
      "text/plain": [
       "8"
      ]
     },
     "execution_count": 52,
     "metadata": {},
     "output_type": "execute_result"
    }
   ],
   "source": [
    "len('sample  ') #gives the length of the string/chatacter with considering the space also"
   ]
  },
  {
   "cell_type": "code",
   "execution_count": 53,
   "id": "7b49d266",
   "metadata": {},
   "outputs": [
    {
     "data": {
      "text/plain": [
       "list"
      ]
     },
     "execution_count": 53,
     "metadata": {},
     "output_type": "execute_result"
    }
   ],
   "source": [
    "type(['1',3,5,6]) #list is a collection of items"
   ]
  },
  {
   "cell_type": "code",
   "execution_count": null,
   "id": "2a35effb",
   "metadata": {},
   "outputs": [],
   "source": []
  }
 ],
 "metadata": {
  "kernelspec": {
   "display_name": "Python 3 (ipykernel)",
   "language": "python",
   "name": "python3"
  },
  "language_info": {
   "codemirror_mode": {
    "name": "ipython",
    "version": 3
   },
   "file_extension": ".py",
   "mimetype": "text/x-python",
   "name": "python",
   "nbconvert_exporter": "python",
   "pygments_lexer": "ipython3",
   "version": "3.9.7"
  }
 },
 "nbformat": 4,
 "nbformat_minor": 5
}
